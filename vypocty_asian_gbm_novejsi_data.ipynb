{
 "cells": [
  {
   "cell_type": "code",
   "execution_count": 1,
   "metadata": {},
   "outputs": [],
   "source": [
    "import pandas as pd\n",
    "from pandas.tseries.offsets import BDay\n",
    "import numpy as np\n",
    "import matplotlib.pyplot as plt\n",
    "import seaborn as sb\n",
    "sb.set()"
   ]
  },
  {
   "cell_type": "markdown",
   "metadata": {},
   "source": [
    "# Úvod\n",
    "V tomto souboru je přepočítána asijská opce podle souboru `vypocty_diplomova_prace_asian_gbm`, ale od pozdějšího data (poslední záznam je 13/5/2020), kdy už se denní ceny nachází v průměrovacím období."
   ]
  },
  {
   "cell_type": "markdown",
   "metadata": {},
   "source": [
    "# Příprava dat"
   ]
  },
  {
   "cell_type": "code",
   "execution_count": 2,
   "metadata": {},
   "outputs": [
    {
     "data": {
      "text/html": [
       "<div>\n",
       "<style scoped>\n",
       "    .dataframe tbody tr th:only-of-type {\n",
       "        vertical-align: middle;\n",
       "    }\n",
       "\n",
       "    .dataframe tbody tr th {\n",
       "        vertical-align: top;\n",
       "    }\n",
       "\n",
       "    .dataframe thead th {\n",
       "        text-align: right;\n",
       "    }\n",
       "</style>\n",
       "<table border=\"1\" class=\"dataframe\">\n",
       "  <thead>\n",
       "    <tr style=\"text-align: right;\">\n",
       "      <th></th>\n",
       "      <th>contract</th>\n",
       "      <th>%change</th>\n",
       "      <th>logreturn</th>\n",
       "      <th>delta</th>\n",
       "      <th>shifted_contract</th>\n",
       "    </tr>\n",
       "    <tr>\n",
       "      <th>Date</th>\n",
       "      <th></th>\n",
       "      <th></th>\n",
       "      <th></th>\n",
       "      <th></th>\n",
       "      <th></th>\n",
       "    </tr>\n",
       "  </thead>\n",
       "  <tbody>\n",
       "    <tr>\n",
       "      <th>2020-05-07</th>\n",
       "      <td>24.920000</td>\n",
       "      <td>-0.014241</td>\n",
       "      <td>-0.014343</td>\n",
       "      <td>-0.360001</td>\n",
       "      <td>25.280001</td>\n",
       "    </tr>\n",
       "    <tr>\n",
       "      <th>2020-05-08</th>\n",
       "      <td>26.040001</td>\n",
       "      <td>0.044944</td>\n",
       "      <td>0.043963</td>\n",
       "      <td>1.120001</td>\n",
       "      <td>24.920000</td>\n",
       "    </tr>\n",
       "    <tr>\n",
       "      <th>2020-05-11</th>\n",
       "      <td>25.430000</td>\n",
       "      <td>-0.023426</td>\n",
       "      <td>-0.023704</td>\n",
       "      <td>-0.610001</td>\n",
       "      <td>26.040001</td>\n",
       "    </tr>\n",
       "    <tr>\n",
       "      <th>2020-05-12</th>\n",
       "      <td>25.719999</td>\n",
       "      <td>0.011404</td>\n",
       "      <td>0.011339</td>\n",
       "      <td>0.289999</td>\n",
       "      <td>25.430000</td>\n",
       "    </tr>\n",
       "    <tr>\n",
       "      <th>2020-05-13</th>\n",
       "      <td>26.410000</td>\n",
       "      <td>0.026827</td>\n",
       "      <td>0.026474</td>\n",
       "      <td>0.690001</td>\n",
       "      <td>25.719999</td>\n",
       "    </tr>\n",
       "  </tbody>\n",
       "</table>\n",
       "</div>"
      ],
      "text/plain": [
       "             contract   %change  logreturn     delta  shifted_contract\n",
       "Date                                                                  \n",
       "2020-05-07  24.920000 -0.014241  -0.014343 -0.360001         25.280001\n",
       "2020-05-08  26.040001  0.044944   0.043963  1.120001         24.920000\n",
       "2020-05-11  25.430000 -0.023426  -0.023704 -0.610001         26.040001\n",
       "2020-05-12  25.719999  0.011404   0.011339  0.289999         25.430000\n",
       "2020-05-13  26.410000  0.026827   0.026474  0.690001         25.719999"
      ]
     },
     "execution_count": 2,
     "metadata": {},
     "output_type": "execute_result"
    }
   ],
   "source": [
    "raw_data = pd.read_csv(\"datasets/CLN20.NYM_newer.csv\",delimiter=\";\")\n",
    "data1 = raw_data.set_index(raw_data.columns[0])\n",
    "data1\n",
    "contract_raw = data1.iloc[:,3]\n",
    "contract_raw = contract_raw[\"2019-05-06\":]#\"2020-02-01\"]\n",
    "contract_raw.index = pd.to_datetime(contract_raw.index)\n",
    "contract_raw = contract_raw.asfreq(BDay())\n",
    "contract_raw = contract_raw.fillna(method='ffill').dropna()\n",
    "contract_raw.tail()\n",
    "\n",
    "pct_ch = contract_raw.pct_change()\n",
    "contract = pd.DataFrame({\"contract\":contract_raw,\"%change\":pct_ch}, index=contract_raw.index).dropna()\n",
    "contract[\"logreturn\"] = np.log(contract_raw/contract_raw.shift(1))\n",
    "contract[\"delta\"] = contract_raw - contract_raw.shift(1)\n",
    "contract[\"shifted_contract\"] = contract_raw.shift()\n",
    "\n",
    "contract.tail()"
   ]
  },
  {
   "cell_type": "markdown",
   "metadata": {},
   "source": [
    "### Grafy k červencovému kontraktu"
   ]
  },
  {
   "cell_type": "code",
   "execution_count": 3,
   "metadata": {},
   "outputs": [
    {
     "data": {
      "image/png": "[encoded data removed]",
      "text/plain": [
       "<Figure size 576x288 with 1 Axes>"
      ]
     },
     "metadata": {},
     "output_type": "display_data"
    }
   ],
   "source": [
    "fig, ax = plt.subplots(figsize=(8,4))\n",
    "ax.plot(contract.iloc[:,0], c=\"k\")\n",
    "ax.set_title(\"Průběh ceny kontraktu Crude Oil Jul 20\", fontsize=18)\n",
    "ax.set_ylabel(\"Cena [ $/barel ]\",fontsize=14)\n",
    "fig.savefig('CLN20.NYM_prices2.pdf', format='pdf', bbox_inches='tight')"
   ]
  },
  {
   "cell_type": "code",
   "execution_count": 4,
   "metadata": {
    "scrolled": true
   },
   "outputs": [
    {
     "data": {
      "image/png": "[encoded data removed]",
      "text/plain": [
       "<Figure size 576x288 with 1 Axes>"
      ]
     },
     "metadata": {},
     "output_type": "display_data"
    }
   ],
   "source": [
    "\n",
    "fig, ax = plt.subplots(figsize=(8,4))\n",
    "ax.set_title(\"Změna ceny v závislosti na ceně kontraktu\", fontsize=18)\n",
    "ax.scatter(contract[\"shifted_contract\"], contract[\"%change\"], c=\"k\", marker=\"+\", alpha=0.5)\n",
    "ax.set_ylabel(\"% změna [ - ]\",fontsize=14)\n",
    "ax.set_xlabel(\"Cena [ $/barel ]\",fontsize=14)\n",
    "fig.savefig('CLN20.NYM_scatter2.pdf', format='pdf', bbox_inches='tight')"
   ]
  },
  {
   "cell_type": "markdown",
   "metadata": {},
   "source": [
    "# Asijská opce simulační výpočet\n",
    "\n",
    "Rozdělit Jul 20 dataset na 2 podle ceny  \n",
    "Hodnotu $45 jsem určil podle osy y v předchozím grafu, změna nepřesahuje nad touto cenou hodnoty +-0.05, pod touto cenou je rozptyl dat výrazně větší."
   ]
  },
  {
   "cell_type": "code",
   "execution_count": 5,
   "metadata": {},
   "outputs": [],
   "source": [
    "contract_low = contract[contract[\"shifted_contract\"]<45]\n",
    "contract_high = contract[contract[\"shifted_contract\"]>=45]"
   ]
  },
  {
   "cell_type": "code",
   "execution_count": 6,
   "metadata": {},
   "outputs": [
    {
     "data": {
      "image/png": "[encoded data removed]",
      "text/plain": [
       "<Figure size 576x216 with 2 Axes>"
      ]
     },
     "metadata": {},
     "output_type": "display_data"
    }
   ],
   "source": [
    "fig, (ax1,ax2) = plt.subplots(1,2,figsize=(8,3))\n",
    "fig.tight_layout()\n",
    "fig.suptitle('Rozdělení na 2 skupiny', fontsize=18, y=1.08)\n",
    "ax1.scatter(contract_low[\"shifted_contract\"], contract_low[\"%change\"],c=\"k\", marker=\"+\", alpha=0.5)\n",
    "ax1.set_title(\"Skupina L\")\n",
    "ax1.set_xlabel(\"Cena [ $/barel ]\",fontsize=14)\n",
    "ax1.set_ylabel(\"% změna [ - ]\",fontsize=14)\n",
    "ax2.scatter(contract_high[\"shifted_contract\"], contract_high[\"%change\"],c=\"k\", marker=\"+\", alpha=0.5)\n",
    "ax2.set_xlabel(\"Cena [ $/barel ]\",fontsize=14)\n",
    "ax2.set_title(\"Skupina H\")\n",
    "fig.savefig('CLN20.NYM_scatter_separated2.pdf', format='pdf', bbox_inches='tight')"
   ]
  },
  {
   "cell_type": "code",
   "execution_count": 7,
   "metadata": {
    "scrolled": true
   },
   "outputs": [
    {
     "data": {
      "image/png": "[encoded data removed]",
      "text/plain": [
       "<Figure size 576x216 with 2 Axes>"
      ]
     },
     "metadata": {},
     "output_type": "display_data"
    }
   ],
   "source": [
    "fig, (ax1,ax2) = plt.subplots(1,2,figsize=(8,3))\n",
    "fig.tight_layout()\n",
    "ax1.hist(contract_low[\"%change\"], color=\"k\", bins=10)\n",
    "ax1.set_title(\"Skupina L\", fontsize=14)\n",
    "ax1.set_xlabel(\"% změna [ - ]\",fontsize=14)\n",
    "ax2.hist(contract_high[\"%change\"], color=\"k\", bins=20)\n",
    "ax2.set_title(\"Skupina H\",fontsize=14)\n",
    "ax2.set_xlabel(\"% změna [ - ]\",fontsize=14)\n",
    "fig.savefig('CLN20.NYM_hist_separated2.pdf', format='pdf', bbox_inches='tight')"
   ]
  },
  {
   "cell_type": "markdown",
   "metadata": {},
   "source": [
    "### Testy pro obě skupiny (L a H) pro určení nejvhodnějšího rozdělení"
   ]
  },
  {
   "cell_type": "code",
   "execution_count": 8,
   "metadata": {},
   "outputs": [],
   "source": [
    "from statsmodels.stats.stattools import jarque_bera\n",
    "j1 = jarque_bera(contract_low[\"%change\"])\n"
   ]
  },
  {
   "cell_type": "code",
   "execution_count": 9,
   "metadata": {},
   "outputs": [],
   "source": [
    "j2 = jarque_bera(contract_high[\"%change\"])"
   ]
  },
  {
   "cell_type": "code",
   "execution_count": 10,
   "metadata": {},
   "outputs": [
    {
     "data": {
      "text/html": [
       "<div>\n",
       "<style scoped>\n",
       "    .dataframe tbody tr th:only-of-type {\n",
       "        vertical-align: middle;\n",
       "    }\n",
       "\n",
       "    .dataframe tbody tr th {\n",
       "        vertical-align: top;\n",
       "    }\n",
       "\n",
       "    .dataframe thead th {\n",
       "        text-align: right;\n",
       "    }\n",
       "</style>\n",
       "<table border=\"1\" class=\"dataframe\">\n",
       "  <thead>\n",
       "    <tr style=\"text-align: right;\">\n",
       "      <th></th>\n",
       "      <th>Skupina L</th>\n",
       "      <th>Skupina H</th>\n",
       "    </tr>\n",
       "  </thead>\n",
       "  <tbody>\n",
       "    <tr>\n",
       "      <th>JB hodnota</th>\n",
       "      <td>2.563664</td>\n",
       "      <td>1.822829e+02</td>\n",
       "    </tr>\n",
       "    <tr>\n",
       "      <th>p hodnota</th>\n",
       "      <td>0.277528</td>\n",
       "      <td>2.616739e-40</td>\n",
       "    </tr>\n",
       "    <tr>\n",
       "      <th>šikmost</th>\n",
       "      <td>0.166534</td>\n",
       "      <td>-1.041732e+00</td>\n",
       "    </tr>\n",
       "    <tr>\n",
       "      <th>špičatost</th>\n",
       "      <td>4.094610</td>\n",
       "      <td>6.942663e+00</td>\n",
       "    </tr>\n",
       "  </tbody>\n",
       "</table>\n",
       "</div>"
      ],
      "text/plain": [
       "            Skupina L     Skupina H\n",
       "JB hodnota   2.563664  1.822829e+02\n",
       "p hodnota    0.277528  2.616739e-40\n",
       "šikmost      0.166534 -1.041732e+00\n",
       "špičatost    4.094610  6.942663e+00"
      ]
     },
     "execution_count": 10,
     "metadata": {},
     "output_type": "execute_result"
    }
   ],
   "source": [
    "pd.DataFrame({\"Skupina L\":j1,\"Skupina H\":j2}, index=[\"JB hodnota\",\"p hodnota\", \"šikmost\", \"špičatost\"])"
   ]
  },
  {
   "cell_type": "code",
   "execution_count": 11,
   "metadata": {},
   "outputs": [
    {
     "name": "stdout",
     "output_type": "stream",
     "text": [
      "Parameters are in this format: (location, scale)\n",
      "(-0.00574090277690437, 0.09009415451075695)\n",
      "(3.2305034254494673, -0.00844012948446775, 0.06250869876885139)\n",
      "(-0.00975559546315459, 0.041375519991006374)\n",
      "(-0.006061772166310078, 0.06506821648098164)\n",
      "\n",
      "The larger the p-value, the better\n",
      "Normal:  0.6919136234920434\n",
      "Student t KstestResult(statistic=0.064089523624007, pvalue=0.9904307903874747)\n",
      "Cauchy:  KstestResult(statistic=0.059671005212696415, pvalue=0.9961482355632215)\n",
      "Laplace:  KstestResult(statistic=0.062413686332670415, pvalue=0.9930602802989508)\n",
      "TE  [-0.00574090277690437, 0.09009415451075695, 0.6919136234920434]\n"
     ]
    },
    {
     "data": {
      "text/html": [
       "<div>\n",
       "<style scoped>\n",
       "    .dataframe tbody tr th:only-of-type {\n",
       "        vertical-align: middle;\n",
       "    }\n",
       "\n",
       "    .dataframe tbody tr th {\n",
       "        vertical-align: top;\n",
       "    }\n",
       "\n",
       "    .dataframe thead th {\n",
       "        text-align: right;\n",
       "    }\n",
       "</style>\n",
       "<table border=\"1\" class=\"dataframe\">\n",
       "  <thead>\n",
       "    <tr style=\"text-align: right;\">\n",
       "      <th></th>\n",
       "      <th>Normal</th>\n",
       "      <th>T</th>\n",
       "      <th>Cauchy</th>\n",
       "      <th>Laplace</th>\n",
       "    </tr>\n",
       "  </thead>\n",
       "  <tbody>\n",
       "    <tr>\n",
       "      <th>Loc</th>\n",
       "      <td>-0.005741</td>\n",
       "      <td>-0.008440</td>\n",
       "      <td>-0.009756</td>\n",
       "      <td>-0.006062</td>\n",
       "    </tr>\n",
       "    <tr>\n",
       "      <th>Scale</th>\n",
       "      <td>0.090094</td>\n",
       "      <td>0.062509</td>\n",
       "      <td>0.041376</td>\n",
       "      <td>0.065068</td>\n",
       "    </tr>\n",
       "    <tr>\n",
       "      <th>p (KSTest)</th>\n",
       "      <td>0.691914</td>\n",
       "      <td>0.990431</td>\n",
       "      <td>0.996148</td>\n",
       "      <td>0.993060</td>\n",
       "    </tr>\n",
       "  </tbody>\n",
       "</table>\n",
       "</div>"
      ],
      "text/plain": [
       "              Normal         T    Cauchy   Laplace\n",
       "Loc        -0.005741 -0.008440 -0.009756 -0.006062\n",
       "Scale       0.090094  0.062509  0.041376  0.065068\n",
       "p (KSTest)  0.691914  0.990431  0.996148  0.993060"
      ]
     },
     "execution_count": 11,
     "metadata": {},
     "output_type": "execute_result"
    }
   ],
   "source": [
    "from auxiliary.distribution_fit import distribution_fit\n",
    "\n",
    "par22 = distribution_fit(contract_low[\"%change\"])\n",
    "par22"
   ]
  },
  {
   "cell_type": "code",
   "execution_count": 12,
   "metadata": {},
   "outputs": [
    {
     "data": {
      "text/plain": [
       "(3.2305034254494673, -0.00844012948446775, 0.06250869876885139)"
      ]
     },
     "execution_count": 12,
     "metadata": {},
     "output_type": "execute_result"
    }
   ],
   "source": [
    "import scipy.stats as sps\n",
    "t_params = sps.t.fit(contract_low[\"%change\"])\n",
    "t_params"
   ]
  },
  {
   "cell_type": "code",
   "execution_count": 13,
   "metadata": {},
   "outputs": [
    {
     "name": "stdout",
     "output_type": "stream",
     "text": [
      "Parameters are in this format: (location, scale)\n",
      "(-0.001401407873528166, 0.018629658618893753)\n",
      "(2.4785399957643266, 0.0003720039904021345, 0.010940615439959837)\n",
      "(0.0011959834769368174, 0.007358790125346638)\n",
      "(6.176682183349208e-08, 0.012553454584788994)\n",
      "\n",
      "The larger the p-value, the better\n",
      "Normal:  0.0017352390351645678\n",
      "Student t KstestResult(statistic=0.07862012176486433, pvalue=0.12492696937955577)\n",
      "Cauchy:  KstestResult(statistic=0.07445274296722271, pvalue=0.16594435729054657)\n",
      "Laplace:  KstestResult(statistic=0.09090663076278371, pvalue=0.04945128985467898)\n",
      "TE  [-0.001401407873528166, 0.018629658618893753, 0.0017352390351645678]\n"
     ]
    }
   ],
   "source": [
    "\n",
    "par1 = distribution_fit(contract_high[\"%change\"])"
   ]
  },
  {
   "cell_type": "code",
   "execution_count": 14,
   "metadata": {
    "scrolled": true
   },
   "outputs": [
    {
     "data": {
      "text/html": [
       "<div>\n",
       "<style scoped>\n",
       "    .dataframe tbody tr th:only-of-type {\n",
       "        vertical-align: middle;\n",
       "    }\n",
       "\n",
       "    .dataframe tbody tr th {\n",
       "        vertical-align: top;\n",
       "    }\n",
       "\n",
       "    .dataframe thead th {\n",
       "        text-align: right;\n",
       "    }\n",
       "</style>\n",
       "<table border=\"1\" class=\"dataframe\">\n",
       "  <thead>\n",
       "    <tr style=\"text-align: right;\">\n",
       "      <th></th>\n",
       "      <th>Normal</th>\n",
       "      <th>T</th>\n",
       "      <th>Cauchy</th>\n",
       "      <th>Laplace</th>\n",
       "    </tr>\n",
       "  </thead>\n",
       "  <tbody>\n",
       "    <tr>\n",
       "      <th>Loc</th>\n",
       "      <td>-0.001401</td>\n",
       "      <td>0.000372</td>\n",
       "      <td>0.001196</td>\n",
       "      <td>6.176682e-08</td>\n",
       "    </tr>\n",
       "    <tr>\n",
       "      <th>Scale</th>\n",
       "      <td>0.018630</td>\n",
       "      <td>0.010941</td>\n",
       "      <td>0.007359</td>\n",
       "      <td>1.255345e-02</td>\n",
       "    </tr>\n",
       "    <tr>\n",
       "      <th>p (KSTest)</th>\n",
       "      <td>0.001735</td>\n",
       "      <td>0.124927</td>\n",
       "      <td>0.165944</td>\n",
       "      <td>4.945129e-02</td>\n",
       "    </tr>\n",
       "  </tbody>\n",
       "</table>\n",
       "</div>"
      ],
      "text/plain": [
       "              Normal         T    Cauchy       Laplace\n",
       "Loc        -0.001401  0.000372  0.001196  6.176682e-08\n",
       "Scale       0.018630  0.010941  0.007359  1.255345e-02\n",
       "p (KSTest)  0.001735  0.124927  0.165944  4.945129e-02"
      ]
     },
     "execution_count": 14,
     "metadata": {},
     "output_type": "execute_result"
    }
   ],
   "source": [
    "par1"
   ]
  },
  {
   "cell_type": "markdown",
   "metadata": {},
   "source": [
    "### Výpočet pracovních dnů  \n",
    "\n",
    "Výpočet pro celkový počet pracovních dnů do expirace a počet dnů, ve kterých dochází k průměrování.\n",
    "\n",
    "Hodnoty pro kontrakty se stahují ze stránek CME, takže po datu expirace May 2020 kontraktu se už nebudou ukazovat.\n",
    "\n",
    "Settlement date pro May 2020 asijskou opci je 2020-05-29, **pokud už je po tomto datu, musí se asian_may_20_settle datum přiřadit manuálně** ( takhle bude datum jako string, pro převedení do datetime se musí použít pd.to_datetime https://pandas.pydata.org/pandas-docs/stable/reference/api/pandas.to_datetime.html )"
   ]
  },
  {
   "cell_type": "code",
   "execution_count": 15,
   "metadata": {},
   "outputs": [
    {
     "data": {
      "text/html": [
       "<div>\n",
       "<style scoped>\n",
       "    .dataframe tbody tr th:only-of-type {\n",
       "        vertical-align: middle;\n",
       "    }\n",
       "\n",
       "    .dataframe tbody tr th {\n",
       "        vertical-align: top;\n",
       "    }\n",
       "\n",
       "    .dataframe thead th {\n",
       "        text-align: right;\n",
       "    }\n",
       "</style>\n",
       "<table border=\"1\" class=\"dataframe\">\n",
       "  <thead>\n",
       "    <tr style=\"text-align: right;\">\n",
       "      <th></th>\n",
       "      <th>Contract Month</th>\n",
       "      <th>Product Code</th>\n",
       "      <th>First Trade</th>\n",
       "      <th>Last Trade</th>\n",
       "      <th>Settlement</th>\n",
       "    </tr>\n",
       "  </thead>\n",
       "  <tbody>\n",
       "    <tr>\n",
       "      <th>0</th>\n",
       "      <td>May 2020 WTI Average Price Option</td>\n",
       "      <td>AOK20</td>\n",
       "      <td>2012-01-03</td>\n",
       "      <td>2020-05-29</td>\n",
       "      <td>2020-05-29</td>\n",
       "    </tr>\n",
       "    <tr>\n",
       "      <th>1</th>\n",
       "      <td>June 2020 WTI Average Price Option</td>\n",
       "      <td>AOM20</td>\n",
       "      <td>2012-01-03</td>\n",
       "      <td>2020-06-30</td>\n",
       "      <td>2020-06-30</td>\n",
       "    </tr>\n",
       "    <tr>\n",
       "      <th>2</th>\n",
       "      <td>July 2020 WTI Average Price Option</td>\n",
       "      <td>AON20</td>\n",
       "      <td>2012-01-03</td>\n",
       "      <td>2020-07-31</td>\n",
       "      <td>2020-07-31</td>\n",
       "    </tr>\n",
       "    <tr>\n",
       "      <th>3</th>\n",
       "      <td>August 2020 WTI Average Price Option</td>\n",
       "      <td>AOQ20</td>\n",
       "      <td>2012-01-03</td>\n",
       "      <td>2020-08-31</td>\n",
       "      <td>2020-08-31</td>\n",
       "    </tr>\n",
       "    <tr>\n",
       "      <th>4</th>\n",
       "      <td>September 2020 WTI Average Price Option</td>\n",
       "      <td>AOU20</td>\n",
       "      <td>2012-01-03</td>\n",
       "      <td>2020-09-30</td>\n",
       "      <td>2020-09-30</td>\n",
       "    </tr>\n",
       "    <tr>\n",
       "      <th>...</th>\n",
       "      <td>...</td>\n",
       "      <td>...</td>\n",
       "      <td>...</td>\n",
       "      <td>...</td>\n",
       "      <td>...</td>\n",
       "    </tr>\n",
       "    <tr>\n",
       "      <th>99</th>\n",
       "      <td>August 2028 WTI Average Price Option</td>\n",
       "      <td>AOQ28</td>\n",
       "      <td>2020-01-02</td>\n",
       "      <td>2028-08-31</td>\n",
       "      <td>2028-08-31</td>\n",
       "    </tr>\n",
       "    <tr>\n",
       "      <th>100</th>\n",
       "      <td>September 2028 WTI Average Price Option</td>\n",
       "      <td>AOU28</td>\n",
       "      <td>2020-01-02</td>\n",
       "      <td>2028-09-29</td>\n",
       "      <td>2028-09-29</td>\n",
       "    </tr>\n",
       "    <tr>\n",
       "      <th>101</th>\n",
       "      <td>October 2028 WTI Average Price Option</td>\n",
       "      <td>AOV28</td>\n",
       "      <td>2020-01-02</td>\n",
       "      <td>2028-10-31</td>\n",
       "      <td>2028-10-31</td>\n",
       "    </tr>\n",
       "    <tr>\n",
       "      <th>102</th>\n",
       "      <td>November 2028 WTI Average Price Option</td>\n",
       "      <td>AOX28</td>\n",
       "      <td>2020-01-02</td>\n",
       "      <td>2028-11-30</td>\n",
       "      <td>2028-11-30</td>\n",
       "    </tr>\n",
       "    <tr>\n",
       "      <th>103</th>\n",
       "      <td>December 2028 WTI Average Price Option</td>\n",
       "      <td>AOZ28</td>\n",
       "      <td>2020-01-02</td>\n",
       "      <td>2028-12-29</td>\n",
       "      <td>2028-12-29</td>\n",
       "    </tr>\n",
       "  </tbody>\n",
       "</table>\n",
       "<p>104 rows × 5 columns</p>\n",
       "</div>"
      ],
      "text/plain": [
       "                              Contract Month Product Code First Trade  \\\n",
       "0          May 2020 WTI Average Price Option        AOK20  2012-01-03   \n",
       "1         June 2020 WTI Average Price Option        AOM20  2012-01-03   \n",
       "2         July 2020 WTI Average Price Option        AON20  2012-01-03   \n",
       "3       August 2020 WTI Average Price Option        AOQ20  2012-01-03   \n",
       "4    September 2020 WTI Average Price Option        AOU20  2012-01-03   \n",
       "..                                       ...          ...         ...   \n",
       "99      August 2028 WTI Average Price Option        AOQ28  2020-01-02   \n",
       "100  September 2028 WTI Average Price Option        AOU28  2020-01-02   \n",
       "101    October 2028 WTI Average Price Option        AOV28  2020-01-02   \n",
       "102   November 2028 WTI Average Price Option        AOX28  2020-01-02   \n",
       "103   December 2028 WTI Average Price Option        AOZ28  2020-01-02   \n",
       "\n",
       "    Last Trade Settlement  \n",
       "0   2020-05-29 2020-05-29  \n",
       "1   2020-06-30 2020-06-30  \n",
       "2   2020-07-31 2020-07-31  \n",
       "3   2020-08-31 2020-08-31  \n",
       "4   2020-09-30 2020-09-30  \n",
       "..         ...        ...  \n",
       "99  2028-08-31 2028-08-31  \n",
       "100 2028-09-29 2028-09-29  \n",
       "101 2028-10-31 2028-10-31  \n",
       "102 2028-11-30 2028-11-30  \n",
       "103 2028-12-29 2028-12-29  \n",
       "\n",
       "[104 rows x 5 columns]"
      ]
     },
     "execution_count": 15,
     "metadata": {},
     "output_type": "execute_result"
    }
   ],
   "source": [
    "from auxiliary.ContractCalendar import ContractCalendar\n",
    "\n",
    "asian_cal = ContractCalendar.wti_average_option()\n",
    "asian_cal.calendar"
   ]
  },
  {
   "cell_type": "code",
   "execution_count": 16,
   "metadata": {},
   "outputs": [
    {
     "name": "stdout",
     "output_type": "stream",
     "text": [
      "2020-05-29 00:00:00\n"
     ]
    }
   ],
   "source": [
    "asian_may_20 = asian_cal.calendar[asian_cal.calendar[\"Contract Month\"]==\"May 2020 WTI Average Price Option\"]\n",
    "asian_may_20_settle = asian_may_20.iloc[0,-1]\n",
    "print(asian_may_20_settle)"
   ]
  },
  {
   "cell_type": "code",
   "execution_count": 17,
   "metadata": {},
   "outputs": [
    {
     "name": "stdout",
     "output_type": "stream",
     "text": [
      "DatetimeIndex(['2020-05-01', '2020-05-04', '2020-05-05', '2020-05-06',\n",
      "               '2020-05-07', '2020-05-08', '2020-05-11', '2020-05-12',\n",
      "               '2020-05-13', '2020-05-14', '2020-05-15', '2020-05-18',\n",
      "               '2020-05-19', '2020-05-20', '2020-05-21', '2020-05-22',\n",
      "               '2020-05-25', '2020-05-26', '2020-05-27', '2020-05-28',\n",
      "               '2020-05-29'],\n",
      "              dtype='datetime64[ns]', freq='B')\n",
      "21\n"
     ]
    }
   ],
   "source": [
    "averaging_days = ContractCalendar.get_business_days_in_month(end_of_month=asian_may_20_settle)\n",
    "print(averaging_days)\n",
    "print(len(averaging_days))"
   ]
  },
  {
   "cell_type": "markdown",
   "metadata": {},
   "source": [
    "První datum v all_days je poslední datum, pro které jsou známy hodnoty, kroků je tedy o jeden méně"
   ]
  },
  {
   "cell_type": "code",
   "execution_count": 18,
   "metadata": {},
   "outputs": [
    {
     "name": "stdout",
     "output_type": "stream",
     "text": [
      "DatetimeIndex(['2020-05-13', '2020-05-14', '2020-05-15', '2020-05-18',\n",
      "               '2020-05-19', '2020-05-20', '2020-05-21', '2020-05-22',\n",
      "               '2020-05-25', '2020-05-26', '2020-05-27', '2020-05-28',\n",
      "               '2020-05-29'],\n",
      "              dtype='datetime64[ns]', freq='B')\n",
      "13\n"
     ]
    }
   ],
   "source": [
    "all_days = ContractCalendar.get_business_days(start=contract.index[-1],end=asian_may_20_settle)\n",
    "print(all_days)\n",
    "print(len(all_days))"
   ]
  },
  {
   "cell_type": "markdown",
   "metadata": {},
   "source": [
    "### Simulační výpočet\n",
    "Funkce asian_simulation_gbm_final je dostupná v souboru simulations.py ve složce simulations"
   ]
  },
  {
   "cell_type": "code",
   "execution_count": 19,
   "metadata": {},
   "outputs": [
    {
     "name": "stdout",
     "output_type": "stream",
     "text": [
      "9\n",
      "Date\n",
      "2020-05-01    21.850000\n",
      "2020-05-04    22.290001\n",
      "2020-05-05    27.760000\n",
      "2020-05-06    25.280001\n",
      "2020-05-07    24.920000\n",
      "2020-05-08    26.040001\n",
      "2020-05-11    25.430000\n",
      "2020-05-12    25.719999\n",
      "2020-05-13    26.410000\n",
      "Freq: B, Name: Close, dtype: float64\n"
     ]
    }
   ],
   "source": [
    "# známé hodnoty z průměrovacího období\n",
    "may_prices = contract_raw[\"2020-05-01\":]\n",
    "print(len(may_prices))\n",
    "print(may_prices)"
   ]
  },
  {
   "cell_type": "code",
   "execution_count": 20,
   "metadata": {
    "scrolled": false
   },
   "outputs": [
    {
     "name": "stdout",
     "output_type": "stream",
     "text": [
      "247219.74176543442\n"
     ]
    }
   ],
   "source": [
    "from simulations.simulations import asian_simulation_gbm_final\n",
    "\n",
    "pos = \"p\"\n",
    "init_price = contract.iloc[-1,0]\n",
    "strike = 50\n",
    "sim = 10000\n",
    "steps = len(all_days)-1\n",
    "avg_steps=len(averaging_days)\n",
    "avg_values=may_prices\n",
    "group1 = (-0.005741,0.090094,\"n\")\n",
    "group2 = (0.000372,0.010941,2.4785399,\"t\") # t\n",
    "#group2 = (0.001196,0.007359,\"c\")# cauchy\n",
    "border_price = 45\n",
    "\n",
    "np.random.seed(19121995)\n",
    "\n",
    "total,paths, payoffs = asian_simulation_gbm_final(\n",
    "                                    position_flag=pos,\n",
    "                                    initial_price=init_price, \n",
    "                                    strike=strike, \n",
    "                                    simulations=sim, \n",
    "                                    steps=steps,\n",
    "                                    avg_steps=avg_steps, \n",
    "                                    avg_values=avg_values, \n",
    "                                    group1=group1, \n",
    "                                    group2=group2,\n",
    "                                    border_price=border_price, \n",
    "                                    strike_type=\"fixed\"\n",
    "                                    )\n",
    "    \n",
    "print(total)"
   ]
  },
  {
   "cell_type": "markdown",
   "metadata": {},
   "source": [
    "Výpočet diskontované hodnoty"
   ]
  },
  {
   "cell_type": "code",
   "execution_count": 21,
   "metadata": {},
   "outputs": [],
   "source": [
    "maturity = (len(all_days)-1)/252"
   ]
  },
  {
   "cell_type": "code",
   "execution_count": 22,
   "metadata": {},
   "outputs": [],
   "source": [
    "discount_rate = 0.01"
   ]
  },
  {
   "cell_type": "code",
   "execution_count": 23,
   "metadata": {
    "scrolled": false
   },
   "outputs": [
    {
     "data": {
      "text/plain": [
       "24.710204610388004"
      ]
     },
     "execution_count": 23,
     "metadata": {},
     "output_type": "execute_result"
    }
   ],
   "source": [
    "import numpy as np\n",
    "(np.exp(-discount_rate*maturity)/sim)*total"
   ]
  },
  {
   "cell_type": "markdown",
   "metadata": {},
   "source": [
    "Výsledná cena je vyšší než v případě s delší dobou do expirace ($ 23.88). Konečná cena podkladového futures kontraktu je tedy simulačním výpočtem odhadnuta jako menší oproti předchozímu výpočtu. Konfidenční interval je podle vypočítaného standard erroru níže menší než v případě s delší dobou do expirace."
   ]
  },
  {
   "cell_type": "markdown",
   "metadata": {},
   "source": [
    "Vykreslení grafu prvních 100 simulací"
   ]
  },
  {
   "cell_type": "code",
   "execution_count": 24,
   "metadata": {
    "scrolled": true
   },
   "outputs": [
    {
     "data": {
      "image/png": "[encoded data removed]",
      "text/plain": [
       "<Figure size 576x288 with 1 Axes>"
      ]
     },
     "metadata": {},
     "output_type": "display_data"
    }
   ],
   "source": [
    "import matplotlib.dates as mdates\n",
    "\n",
    "week = mdates.WeekdayLocator()\n",
    "fmt = mdates.DateFormatter('%D')\n",
    "\n",
    "fig, ax = plt.subplots(1, 1, figsize=(8,4))\n",
    "ax.set_title(\"Simulované průběhy\", fontsize=18)\n",
    "ax.plot(contract.iloc[-30:,0],color=\"k\")\n",
    "for path in paths[:50]:\n",
    "    ax.plot(all_days, path, color=\"k\", alpha=0.2)\n",
    "ax.set_ylabel(\"$\",fontsize=14)\n",
    "ax.xaxis.set_major_locator(week)\n",
    "ax.xaxis.set_major_formatter(fmt)\n",
    "ax.set_xlim(contract.index[-30], all_days[-1]+BDay())\n",
    "fig.autofmt_xdate()\n",
    "plt.show()\n",
    "fig.savefig('sim_asian2.pdf', format='pdf', bbox_inches='tight')"
   ]
  },
  {
   "cell_type": "markdown",
   "metadata": {},
   "source": []
  },
  {
   "cell_type": "markdown",
   "metadata": {},
   "source": [
    "Příprava parametrů pro vzorec, dostupný v CD u knihy The Complete Guide To Option Pricing Formulas"
   ]
  },
  {
   "cell_type": "code",
   "execution_count": 25,
   "metadata": {
    "scrolled": true
   },
   "outputs": [
    {
     "data": {
      "text/html": [
       "<div>\n",
       "<style scoped>\n",
       "    .dataframe tbody tr th:only-of-type {\n",
       "        vertical-align: middle;\n",
       "    }\n",
       "\n",
       "    .dataframe tbody tr th {\n",
       "        vertical-align: top;\n",
       "    }\n",
       "\n",
       "    .dataframe thead th {\n",
       "        text-align: right;\n",
       "    }\n",
       "</style>\n",
       "<table border=\"1\" class=\"dataframe\">\n",
       "  <thead>\n",
       "    <tr style=\"text-align: right;\">\n",
       "      <th></th>\n",
       "      <th>Params</th>\n",
       "    </tr>\n",
       "  </thead>\n",
       "  <tbody>\n",
       "    <tr>\n",
       "      <th>S</th>\n",
       "      <td>26.410000</td>\n",
       "    </tr>\n",
       "    <tr>\n",
       "      <th>SA</th>\n",
       "      <td>0.000000</td>\n",
       "    </tr>\n",
       "    <tr>\n",
       "      <th>X</th>\n",
       "      <td>50.000000</td>\n",
       "    </tr>\n",
       "    <tr>\n",
       "      <th>t</th>\n",
       "      <td>-0.035714</td>\n",
       "    </tr>\n",
       "    <tr>\n",
       "      <th>Maturity</th>\n",
       "      <td>0.047619</td>\n",
       "    </tr>\n",
       "    <tr>\n",
       "      <th>n</th>\n",
       "      <td>21.000000</td>\n",
       "    </tr>\n",
       "    <tr>\n",
       "      <th>m</th>\n",
       "      <td>0.000000</td>\n",
       "    </tr>\n",
       "    <tr>\n",
       "      <th>r</th>\n",
       "      <td>1.000000</td>\n",
       "    </tr>\n",
       "    <tr>\n",
       "      <th>sigma</th>\n",
       "      <td>65.912407</td>\n",
       "    </tr>\n",
       "  </tbody>\n",
       "</table>\n",
       "</div>"
      ],
      "text/plain": [
       "             Params\n",
       "S         26.410000\n",
       "SA         0.000000\n",
       "X         50.000000\n",
       "t         -0.035714\n",
       "Maturity   0.047619\n",
       "n         21.000000\n",
       "m          0.000000\n",
       "r          1.000000\n",
       "sigma     65.912407"
      ]
     },
     "execution_count": 25,
     "metadata": {},
     "output_type": "execute_result"
    }
   ],
   "source": [
    "# value for volatility of entrire dataset\n",
    "sigma = contract.iloc[:,1].std()\n",
    "\n",
    "time_to_avg = (steps - avg_steps)/252\n",
    "\n",
    "params = pd.DataFrame(\n",
    "                        {\"Params\":[init_price,0, strike,time_to_avg, maturity, avg_steps, 0, discount_rate * 100, (sigma * np.sqrt(252) * 100)]},\n",
    "                        index=[\"S\",\"SA\",\"X\",\"t\",\"Maturity\",\"n\",\"m\",\"r\",\"sigma\"]\n",
    "                        )\n",
    "params"
   ]
  },
  {
   "cell_type": "markdown",
   "metadata": {},
   "source": [
    "### Výpočet konfidenčního intervalu"
   ]
  },
  {
   "cell_type": "code",
   "execution_count": 26,
   "metadata": {},
   "outputs": [],
   "source": [
    "s = pd.Series(payoffs)"
   ]
  },
  {
   "cell_type": "code",
   "execution_count": 27,
   "metadata": {},
   "outputs": [
    {
     "data": {
      "text/plain": [
       "2.8296559998230557"
      ]
     },
     "execution_count": 27,
     "metadata": {},
     "output_type": "execute_result"
    }
   ],
   "source": [
    "s.std()"
   ]
  },
  {
   "cell_type": "code",
   "execution_count": 28,
   "metadata": {},
   "outputs": [
    {
     "data": {
      "image/png": "[encoded data removed]",
      "text/plain": [
       "<Figure size 576x288 with 1 Axes>"
      ]
     },
     "metadata": {},
     "output_type": "display_data"
    }
   ],
   "source": [
    "plt.figure(figsize=(8, 4))\n",
    "plt.title(\"Počty hodnot opcí jednotlivých simulací (budoucí hodnoty)\", fontsize=18)\n",
    "plt.xlabel(\"$\")\n",
    "plt.hist(s, bins=20, color=\"k\")\n",
    "plt.plot()\n",
    "plt.savefig('sim_asian_payoffs2.pdf', format='pdf', bbox_inches='tight')"
   ]
  },
  {
   "cell_type": "code",
   "execution_count": 29,
   "metadata": {
    "scrolled": true
   },
   "outputs": [
    {
     "data": {
      "text/plain": [
       "0.028296559998230556"
      ]
     },
     "execution_count": 29,
     "metadata": {},
     "output_type": "execute_result"
    }
   ],
   "source": [
    "se = s.std()/np.sqrt(sim)\n",
    "se"
   ]
  },
  {
   "cell_type": "markdown",
   "metadata": {},
   "source": [
    "Mnohem menší standard error oproti druhému výpočtu, kdy byla doba do expirace delší."
   ]
  },
  {
   "cell_type": "markdown",
   "metadata": {},
   "source": [
    "Miscellaneous"
   ]
  },
  {
   "cell_type": "code",
   "execution_count": 30,
   "metadata": {},
   "outputs": [
    {
     "data": {
      "text/plain": [
       "-0.03571428571428571"
      ]
     },
     "execution_count": 30,
     "metadata": {},
     "output_type": "execute_result"
    }
   ],
   "source": [
    "time_to_avg"
   ]
  },
  {
   "cell_type": "code",
   "execution_count": 31,
   "metadata": {},
   "outputs": [
    {
     "data": {
      "text/plain": [
       "-9"
      ]
     },
     "execution_count": 31,
     "metadata": {},
     "output_type": "execute_result"
    }
   ],
   "source": [
    "steps - avg_steps"
   ]
  },
  {
   "cell_type": "code",
   "execution_count": null,
   "metadata": {},
   "outputs": [],
   "source": []
  },
  {
   "cell_type": "code",
   "execution_count": null,
   "metadata": {},
   "outputs": [],
   "source": []
  }
 ],
 "metadata": {
  "kernelspec": {
   "display_name": "Python 3",
   "language": "python",
   "name": "python3"
  },
  "language_info": {
   "codemirror_mode": {
    "name": "ipython",
    "version": 3
   },
   "file_extension": ".py",
   "mimetype": "text/x-python",
   "name": "python",
   "nbconvert_exporter": "python",
   "pygments_lexer": "ipython3",
   "version": "3.7.6"
  }
 },
 "nbformat": 4,
 "nbformat_minor": 2
}
