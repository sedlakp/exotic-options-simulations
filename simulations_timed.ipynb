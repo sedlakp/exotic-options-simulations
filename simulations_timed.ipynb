{
 "cells": [
  {
   "cell_type": "markdown",
   "metadata": {},
   "source": [
    "# Časované simulace \n",
    "Simulations - počet simulací  \n",
    "Price - cena po převedení na současnou hodnotu  \n",
    "SE - standardní chyba  \n",
    "Time - doba, jakou simulační výpočet trval  "
   ]
  },
  {
   "cell_type": "markdown",
   "metadata": {},
   "source": [
    "## Asian mean reverting"
   ]
  },
  {
   "cell_type": "code",
   "execution_count": 1,
   "metadata": {},
   "outputs": [
    {
     "name": "stdout",
     "output_type": "stream",
     "text": [
      "Simulations: 10 Price: 16.3 SE 0.82  Time: 0.02\n",
      "Simulations: 100 Price: 16.14 SE 0.279  Time: 0.234\n",
      "Simulations: 1000 Price: 16.04 SE 0.092  Time: 2.032\n",
      "Simulations: 10000 Price: 16.09 SE 0.03  Time: 19.224\n",
      "Simulations: 50000 Price: 16.07 SE 0.013  Time: 96.038\n"
     ]
    }
   ],
   "source": [
    "import numpy as np\n",
    "from simulations.simulations import asian_simulation_mean_reverting_final\n",
    "import time\n",
    "import pandas as pd\n",
    "\n",
    "pos = \"p\"\n",
    "init_price = 32.029999\n",
    "strike = 50\n",
    "simulations_counts = [10,100,1000,10000,50000]\n",
    "steps = 36\n",
    "avg_steps=21\n",
    "avg_values=[]\n",
    "group = (0.093,0.63,3.035,\"t\")\n",
    "mean_value = 32.668\n",
    "reversion_speed = 0.043\n",
    "\n",
    "for sim in simulations_counts:\n",
    "    np.random.seed(19121995)\n",
    "    start = time.time()\n",
    "    total,paths, payoffs = asian_simulation_mean_reverting_final(position_flag=pos,initial_price=init_price, strike=strike, simulations=sim, steps=steps,\n",
    "                                avg_steps=avg_steps , avg_values=avg_values, group=group,\n",
    "                                 mean_value=mean_value, reversion_speed=reversion_speed ,strike_type=\"fixed\")\n",
    "    end = time.time()\n",
    "    \n",
    "    maturity = (36)/252\n",
    "    discount_rate = 0.01\n",
    "    discounted_price = (np.exp(-discount_rate*maturity)/sim)*total\n",
    "    discounted_price = discounted_price.round(2)\n",
    "    \n",
    "    s = pd.Series(payoffs)\n",
    "    se = s.std()/np.sqrt(sim)\n",
    "    se = se.round(3)\n",
    "    \n",
    "    duration = round(end-start,3)\n",
    "    \n",
    "    print(\"Simulations:\", sim,\"Price:\",discounted_price, \"SE\",se,\" Time:\",duration)"
   ]
  },
  {
   "cell_type": "code",
   "execution_count": null,
   "metadata": {},
   "outputs": [],
   "source": []
  },
  {
   "cell_type": "markdown",
   "metadata": {},
   "source": [
    "## Calendar spread GBM"
   ]
  },
  {
   "cell_type": "code",
   "execution_count": 2,
   "metadata": {},
   "outputs": [
    {
     "name": "stdout",
     "output_type": "stream",
     "text": [
      "Simulations: 10 Price: 0.47 SE 0.271  Time: 0.216\n",
      "Simulations: 100 Price: 0.54 SE 0.107  Time: 0.545\n",
      "Simulations: 1000 Price: 0.57 SE 0.034  Time: 4.976\n",
      "Simulations: 10000 Price: 0.6 SE 0.011  Time: 50.979\n",
      "Simulations: 50000 Price: 0.6 SE 0.005  Time: 242.679\n"
     ]
    }
   ],
   "source": [
    "from simulations.simulations import spread_simulation_gbm_final\n",
    "position_flag = \"p\"\n",
    "initial_price1 = 32.029999\n",
    "initial_price2 = 33.270000\n",
    "strike = -3\n",
    "simulations_counts = [10,100,1000,10000,50000]\n",
    "steps = 51\n",
    "loc1 = 0.001497\n",
    "loc2 = 0.001889\n",
    "scale1 = 0.061986\n",
    "scale2 = 0.053416\n",
    "cor = 0.987763820866162\n",
    "\n",
    "\n",
    "for sim in simulations_counts:\n",
    "    np.random.seed(19121995)\n",
    "    start = time.time()\n",
    "    total, paths, payoffs = spread_simulation_gbm_final(position_flag=position_flag,\n",
    "                                     initial_price1=initial_price1,\n",
    "                                     initial_price2=initial_price2,\n",
    "                                     strike=strike,\n",
    "                                     simulations=sim,\n",
    "                                     steps=steps,\n",
    "                                     loc1=loc1,\n",
    "                                     loc2=loc2,\n",
    "                                     scale1=scale1,\n",
    "                                     scale2=scale2,\n",
    "                                     cor=cor,\n",
    "                                    )\n",
    "    end = time.time()\n",
    "    \n",
    "    maturity = (51)/252\n",
    "    discount_rate = 0.01\n",
    "    discounted_price = (np.exp(-discount_rate*maturity)/sim)*total\n",
    "    discounted_price = discounted_price.round(2)\n",
    "    \n",
    "    s = pd.Series(payoffs)\n",
    "    se = s.std()/np.sqrt(sim)\n",
    "    se = se.round(3)\n",
    "    \n",
    "    duration = round(end-start,3)\n",
    "    \n",
    "    print(\"Simulations:\", sim,\"Price:\",discounted_price, \"SE\",se,\" Time:\",duration)"
   ]
  },
  {
   "cell_type": "code",
   "execution_count": null,
   "metadata": {},
   "outputs": [],
   "source": []
  },
  {
   "cell_type": "markdown",
   "metadata": {},
   "source": [
    "## Asian GBM (data separated into two groups)"
   ]
  },
  {
   "cell_type": "code",
   "execution_count": 4,
   "metadata": {},
   "outputs": [
    {
     "name": "stdout",
     "output_type": "stream",
     "text": [
      "Simulations: 10 Price: 24.8 SE 3.656  Time: 0.166\n",
      "Simulations: 100 Price: 24.69 SE 1.087  Time: 0.19\n",
      "Simulations: 1000 Price: 23.72 SE 0.331  Time: 1.893\n",
      "Simulations: 10000 Price: 23.88 SE 0.103  Time: 17.594\n",
      "Simulations: 50000 Price: 23.73 SE 0.046  Time: 87.59\n"
     ]
    }
   ],
   "source": [
    "from simulations.simulations import asian_simulation_gbm_final\n",
    "\n",
    "pos = \"p\"\n",
    "init_price = 32.029999\n",
    "strike = 50\n",
    "simulations_counts = [10,100,1000,10000,50000]\n",
    "steps = 36\n",
    "avg_steps=21\n",
    "avg_values=[]\n",
    "group1 = (-0.008508,0.078398,\"n\")\n",
    "group2 = (0.000372,0.010941,2.4785399,\"t\") # t\n",
    "#group2 = (0.001196,0.007359,\"c\")# cauchy\n",
    "border_price = 45\n",
    "\n",
    "\n",
    "for sim in simulations_counts:\n",
    "    np.random.seed(19121995)\n",
    "    start = time.time()\n",
    "    total,paths, payoffs = asian_simulation_gbm_final(position_flag=pos,initial_price=init_price, strike=strike, simulations=sim, steps=steps,\n",
    "                                avg_steps=avg_steps , avg_values=avg_values, group1=group1, group2=group2,\n",
    "                                 border_price=border_price, strike_type=\"fixed\")\n",
    "    end = time.time()\n",
    "    \n",
    "    maturity = (36)/252\n",
    "    discount_rate = 0.01\n",
    "    discounted_price = (np.exp(-discount_rate*maturity)/sim)*total\n",
    "    discounted_price = discounted_price.round(2)\n",
    "    \n",
    "    s = pd.Series(payoffs)\n",
    "    se = s.std()/np.sqrt(sim)\n",
    "    se = se.round(3)\n",
    "    \n",
    "    duration = round(end-start,3)\n",
    "    \n",
    "    print(\"Simulations:\", sim,\"Price:\",discounted_price, \"SE\",se,\" Time:\",duration)"
   ]
  },
  {
   "cell_type": "code",
   "execution_count": null,
   "metadata": {},
   "outputs": [],
   "source": []
  }
 ],
 "metadata": {
  "kernelspec": {
   "display_name": "Python 3",
   "language": "python",
   "name": "python3"
  },
  "language_info": {
   "codemirror_mode": {
    "name": "ipython",
    "version": 3
   },
   "file_extension": ".py",
   "mimetype": "text/x-python",
   "name": "python",
   "nbconvert_exporter": "python",
   "pygments_lexer": "ipython3",
   "version": "3.7.6"
  }
 },
 "nbformat": 4,
 "nbformat_minor": 2
}
